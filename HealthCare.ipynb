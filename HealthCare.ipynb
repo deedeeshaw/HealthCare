{
 "cells": [
  {
   "cell_type": "code",
   "execution_count": 11,
   "metadata": {},
   "outputs": [],
   "source": [
    "import csv"
   ]
  },
  {
   "cell_type": "code",
   "execution_count": 13,
   "metadata": {},
   "outputs": [
    {
     "data": {
      "text/plain": [
       "[{'prob_id': '1', 'prob_desc': 'High Cholestrol'},\n",
       " {'prob_id': '2', 'prob_desc': 'High Blood Pressure'},\n",
       " {'prob_id': '3', 'prob_desc': 'Gout'},\n",
       " {'prob_id': '5', 'prob_desc': 'Vitamin D Deficiency'},\n",
       " {'prob_id': '6', 'prob_desc': 'Breast Cancer'},\n",
       " {'prob_id': '9', 'prob_desc': 'Prostrate Cancer'},\n",
       " {'prob_id': '12', 'prob_desc': 'Stomach Cancer'},\n",
       " {'prob_id': '15', 'prob_desc': 'Rhematoid Arthiritis'},\n",
       " {'prob_id': '16', 'prob_desc': 'Diabetes Type 2'},\n",
       " {'prob_id': '18', 'prob_desc': 'Depression'},\n",
       " {'prob_id': '27', 'prob_desc': 'Celiac Disease'},\n",
       " {'prob_id': '28', 'prob_desc': \"Crohn's Disease\"},\n",
       " {'prob_id': '34', 'prob_desc': 'Ulcers'}]"
      ]
     },
     "execution_count": 13,
     "metadata": {},
     "output_type": "execute_result"
    }
   ],
   "source": [
    "def problem_dd():\n",
    "    problem_list = []\n",
    "    with open('static/data/problem.csv') as problem_file:\n",
    "        problem = csv.reader(problem_file, delimiter=',')\n",
    "        next(problem, None)\n",
    "        for row in problem:\n",
    "            problem_list.append({'prob_id':row[0], 'prob_desc': row[1]})\n",
    "        return problem_list\n",
    "\n",
    "problem_dd()"
   ]
  },
  {
   "cell_type": "code",
   "execution_count": 8,
   "metadata": {},
   "outputs": [],
   "source": [
    "from config import api\n",
    "import pandas as pd\n",
    "import requests"
   ]
  },
  {
   "cell_type": "code",
   "execution_count": 9,
   "metadata": {},
   "outputs": [
    {
     "name": "stdout",
     "output_type": "stream",
     "text": [
      "https://nutridigm-api-dev.azurewebsites.net/api/v1/nutridigm/topitemstoconsume?subscriptionId=e837b246-f6ab-8abe-545b-320d905f0024&problemId=2&api_key=e837b246-f6ab-8abe-545b-320d905f0024\n"
     ]
    }
   ],
   "source": [
    "# https://nutridigm-api-dev.azurewebsites.net/api/v1/nutridigm/topitemstoconsume?subscriptionId=e837b246-f6ab-8abe-545b-320d905f0024&problemId=35&api_key=e837b246-f6ab-8abe-545b-320d905f0024\n",
    "\n",
    "\n",
    "base_url=\"https://nutridigm-api-dev.azurewebsites.net\"\n",
    "consume_url=\"/api/v1/nutridigm/topitemstoconsume?\"\n",
    "avoid_url=\"/api/v1/nutridigm/topitemstoavoid?\"\n",
    "\n",
    "problemId = 2\n",
    "\n",
    "query_consume=base_url + consume_url + f'subscriptionId={api}&problemId={problemId}&api_key={api}'\n",
    "\n",
    "query_avoid=base_url + avoid_url + f'subscriptionId={api}&problemId={problemId}&api_key={api}'\n",
    "print(query_consume)"
   ]
  },
  {
   "cell_type": "code",
   "execution_count": null,
   "metadata": {},
   "outputs": [],
   "source": []
  },
  {
   "cell_type": "code",
   "execution_count": null,
   "metadata": {},
   "outputs": [],
   "source": [
    "import pandas as pd\n",
    "# from IPython.display import HTML\n",
    "import requests\n",
    "health_df = pd.read_csv(\"static/data/health.csv\")\n",
    "health = health_df.rename(columns={'All_persons': 'Total', 'Less_than_high_school': '< High School', 'High_school': \"High Schhol\",\n",
    "                      'Some_college': 'Some College', \"Less_than_18\": \"Still in School\",\n",
    "                        \"Excellent_health\": \"Excellent Health\",\n",
    "                      \"VG_health\": \"Very Good Health\", \"Good_health\": \"Good Health\", \"Fair_health\": \"Fair Health\",\n",
    "                      \"Poor_health\": \"Poor Health\"})\n",
    "health.set_index(\"Year\", inplace=True)\n",
    "\n",
    "health = health.applymap('{:,}'.format)\n",
    "\n",
    "health\n",
    "\n"
   ]
  },
  {
   "cell_type": "code",
   "execution_count": null,
   "metadata": {},
   "outputs": [],
   "source": [
    "health_html = health_df.to_html().replace('\\n', '')\n",
    "\n",
    "health_html"
   ]
  },
  {
   "cell_type": "code",
   "execution_count": null,
   "metadata": {},
   "outputs": [],
   "source": [
    "per_person_df = pd.read_csv(\"static/data/per_person.csv\")\n",
    "per_person = per_person_df.rename(columns={'Per_person': 'Total per Person', 'per_Male': \"Male\", 'per_Female': \"Female\",\n",
    "                        'per_Less_than_high_school': '< High School', 'per_High_school': \"High Schhol\",\n",
    "                      'per_Some_college': 'Some College', \"per_Less_than_18\": \"Still in School\",\n",
    "                        \"per_Excellent_health\": \"Excellent Health\",\n",
    "                      \"per_VG_health\": \"Very Good Health\", \"per_Good_health\": \"Good Health\", \"per_Fair_health\": \"Fair Health\",\n",
    "                      \"per_Poor_health\": \"Poor Health\"})\n",
    "per_person.set_index(\"Year\", inplace=True)\n",
    "\n",
    "per_person\n"
   ]
  },
  {
   "cell_type": "code",
   "execution_count": null,
   "metadata": {},
   "outputs": [],
   "source": [
    "per_person_html = per_person.to_html().replace('\\n', '')\n",
    "\n",
    "per_person_html"
   ]
  },
  {
   "cell_type": "code",
   "execution_count": null,
   "metadata": {},
   "outputs": [],
   "source": [
    "from config import api\n"
   ]
  },
  {
   "cell_type": "code",
   "execution_count": null,
   "metadata": {},
   "outputs": [],
   "source": [
    "# https://nutridigm-api-dev.azurewebsites.net/api/v1/nutridigm/topitemstoconsume?subscriptionId=e837b246-f6ab-8abe-545b-320d905f0024&problemId=35&api_key=e837b246-f6ab-8abe-545b-320d905f0024\n",
    "\n",
    "\n",
    "base_url=\"https://nutridigm-api-dev.azurewebsites.net\"\n",
    "consume_url=\"/api/v1/nutridigm/topitemstoconsume?\"\n",
    "avoid_url=\"/api/v1/nutridigm/topitemstoavoid?\"\n",
    "\n",
    "problemId = 2\n",
    "\n",
    "query_consume=base_url + consume_url + f'subscriptionId={api}&problemId={problemId}&api_key={api}'\n",
    "\n",
    "query_avoid=base_url + avoid_url + f'subscriptionId={api}&problemId={problemId}&api_key={api}'\n",
    "\n"
   ]
  },
  {
   "cell_type": "code",
   "execution_count": null,
   "metadata": {},
   "outputs": [],
   "source": [
    "# Get the top ten items to consume\n",
    "consume_food = requests.get(query_consume).json()\n",
    "print(consume_food)"
   ]
  },
  {
   "cell_type": "code",
   "execution_count": null,
   "metadata": {},
   "outputs": [],
   "source": [
    "type(consume_food)"
   ]
  },
  {
   "cell_type": "code",
   "execution_count": null,
   "metadata": {},
   "outputs": [],
   "source": [
    "len(consume_food)"
   ]
  },
  {
   "cell_type": "code",
   "execution_count": null,
   "metadata": {},
   "outputs": [],
   "source": [
    "# avoid_food= requests.get(query_avoid).json()\n",
    "# print(avoid_food)"
   ]
  },
  {
   "cell_type": "code",
   "execution_count": null,
   "metadata": {},
   "outputs": [],
   "source": [
    "# def food(ProblemId):\n",
    "#     consume_food = requests.get(query_consume).json()\n",
    "#     avoid_food = requests.get(query_avoid).json()\n",
    "#     return consume_food, avoid_food\n",
    "\n",
    "# food(6)"
   ]
  },
  {
   "cell_type": "code",
   "execution_count": null,
   "metadata": {},
   "outputs": [],
   "source": [
    "# for c in consume_food:\n",
    "    \n",
    "# print(*consume_food, sep=';')"
   ]
  },
  {
   "cell_type": "code",
   "execution_count": null,
   "metadata": {},
   "outputs": [],
   "source": [
    "for c in consume_food:\n",
    "    con =c.split('; ')\n",
    "    print(con)"
   ]
  },
  {
   "cell_type": "code",
   "execution_count": null,
   "metadata": {},
   "outputs": [],
   "source": [
    "for c in con:\n",
    "    print(c)"
   ]
  },
  {
   "cell_type": "code",
   "execution_count": null,
   "metadata": {},
   "outputs": [],
   "source": [
    "# for a in avoid_food:\n",
    "#     avoid= a.split('; ')\n",
    "\n",
    "# for a in avoid:\n",
    "#     print(a)"
   ]
  },
  {
   "cell_type": "code",
   "execution_count": null,
   "metadata": {},
   "outputs": [],
   "source": [
    "def food(problemId):\n",
    "    base_url=\"https://nutridigm-api-dev.azurewebsites.net\"\n",
    "    consume_url=\"/api/v1/nutridigm/topitemstoconsume?\"\n",
    "    avoid_url=\"/api/v1/nutridigm/topitemstoavoid?\"\n",
    "\n",
    "#     problemId = 2\n",
    "\n",
    "    query_consume=base_url + consume_url + f'subscriptionId={api}&problemId={problemId}&api_key={api}'\n",
    "\n",
    "    query_avoid=base_url + avoid_url + f'subscriptionId={api}&problemId={problemId}&api_key={api}'\n",
    "    consume_food = requests.get(query_consume).json()\n",
    "    for c in consume_food:\n",
    "        consume =c.split('; ')\n",
    "        for c in consume:\n",
    "            \n",
    "    avoid_food = requests.get(query_avoid).json()\n",
    "    for a in avoid_food:\n",
    "        avoid=a.split('; ')\n",
    "        print(consume)\n",
    "        print(avoid)\n",
    "        return consume, avoid \n",
    "\n",
    "consume, avoid = food(16)"
   ]
  },
  {
   "cell_type": "code",
   "execution_count": null,
   "metadata": {},
   "outputs": [],
   "source": [
    "len(consume)"
   ]
  },
  {
   "cell_type": "code",
   "execution_count": null,
   "metadata": {},
   "outputs": [],
   "source": []
  }
 ],
 "metadata": {
  "kernelspec": {
   "display_name": "Python 3",
   "language": "python",
   "name": "python3"
  },
  "language_info": {
   "codemirror_mode": {
    "name": "ipython",
    "version": 3
   },
   "file_extension": ".py",
   "mimetype": "text/x-python",
   "name": "python",
   "nbconvert_exporter": "python",
   "pygments_lexer": "ipython3",
   "version": "3.7.0"
  }
 },
 "nbformat": 4,
 "nbformat_minor": 2
}
