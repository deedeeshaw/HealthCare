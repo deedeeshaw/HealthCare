{
 "cells": [
  {
   "cell_type": "code",
   "execution_count": 1,
   "metadata": {},
   "outputs": [
    {
     "data": {
      "text/html": [
       "<div>\n",
       "<style scoped>\n",
       "    .dataframe tbody tr th:only-of-type {\n",
       "        vertical-align: middle;\n",
       "    }\n",
       "\n",
       "    .dataframe tbody tr th {\n",
       "        vertical-align: top;\n",
       "    }\n",
       "\n",
       "    .dataframe thead th {\n",
       "        text-align: right;\n",
       "    }\n",
       "</style>\n",
       "<table border=\"1\" class=\"dataframe\">\n",
       "  <thead>\n",
       "    <tr style=\"text-align: right;\">\n",
       "      <th></th>\n",
       "      <th>Year</th>\n",
       "      <th>All_persons</th>\n",
       "      <th>Male</th>\n",
       "      <th>Female</th>\n",
       "      <th>Less_than_high_school</th>\n",
       "      <th>High_school</th>\n",
       "      <th>Some_college</th>\n",
       "      <th>Less than 18</th>\n",
       "      <th>Excellent_health</th>\n",
       "      <th>VG_health</th>\n",
       "      <th>Good_health</th>\n",
       "      <th>Fair_health</th>\n",
       "      <th>Poor_health</th>\n",
       "    </tr>\n",
       "  </thead>\n",
       "  <tbody>\n",
       "    <tr>\n",
       "      <th>0</th>\n",
       "      <td>2016</td>\n",
       "      <td>1617531</td>\n",
       "      <td>688394</td>\n",
       "      <td>929137</td>\n",
       "      <td>204665</td>\n",
       "      <td>422550</td>\n",
       "      <td>818189</td>\n",
       "      <td>158393</td>\n",
       "      <td>217291</td>\n",
       "      <td>389788</td>\n",
       "      <td>496200</td>\n",
       "      <td>318004</td>\n",
       "      <td>192553</td>\n",
       "    </tr>\n",
       "    <tr>\n",
       "      <th>1</th>\n",
       "      <td>2015</td>\n",
       "      <td>1599907</td>\n",
       "      <td>700699</td>\n",
       "      <td>899208</td>\n",
       "      <td>178372</td>\n",
       "      <td>422544</td>\n",
       "      <td>864930</td>\n",
       "      <td>126000</td>\n",
       "      <td>225866</td>\n",
       "      <td>346476</td>\n",
       "      <td>504467</td>\n",
       "      <td>310000</td>\n",
       "      <td>204207</td>\n",
       "    </tr>\n",
       "    <tr>\n",
       "      <th>2</th>\n",
       "      <td>2014</td>\n",
       "      <td>1499365</td>\n",
       "      <td>684561</td>\n",
       "      <td>814804</td>\n",
       "      <td>182245</td>\n",
       "      <td>332551</td>\n",
       "      <td>826382</td>\n",
       "      <td>153137</td>\n",
       "      <td>207702</td>\n",
       "      <td>365160</td>\n",
       "      <td>424211</td>\n",
       "      <td>301849</td>\n",
       "      <td>195345</td>\n",
       "    </tr>\n",
       "    <tr>\n",
       "      <th>3</th>\n",
       "      <td>2013</td>\n",
       "      <td>1400523</td>\n",
       "      <td>599960</td>\n",
       "      <td>800563</td>\n",
       "      <td>167905</td>\n",
       "      <td>317342</td>\n",
       "      <td>759359</td>\n",
       "      <td>149067</td>\n",
       "      <td>200325</td>\n",
       "      <td>345861</td>\n",
       "      <td>399083</td>\n",
       "      <td>280754</td>\n",
       "      <td>170123</td>\n",
       "    </tr>\n",
       "    <tr>\n",
       "      <th>4</th>\n",
       "      <td>2012</td>\n",
       "      <td>1350721</td>\n",
       "      <td>612771</td>\n",
       "      <td>737950</td>\n",
       "      <td>164256</td>\n",
       "      <td>369122</td>\n",
       "      <td>676993</td>\n",
       "      <td>133951</td>\n",
       "      <td>186426</td>\n",
       "      <td>314371</td>\n",
       "      <td>403920</td>\n",
       "      <td>234314</td>\n",
       "      <td>204754</td>\n",
       "    </tr>\n",
       "    <tr>\n",
       "      <th>5</th>\n",
       "      <td>2011</td>\n",
       "      <td>1330725</td>\n",
       "      <td>603207</td>\n",
       "      <td>727518</td>\n",
       "      <td>164843</td>\n",
       "      <td>353147</td>\n",
       "      <td>687861</td>\n",
       "      <td>117558</td>\n",
       "      <td>187892</td>\n",
       "      <td>309873</td>\n",
       "      <td>408089</td>\n",
       "      <td>250367</td>\n",
       "      <td>171327</td>\n",
       "    </tr>\n",
       "    <tr>\n",
       "      <th>6</th>\n",
       "      <td>2010</td>\n",
       "      <td>1263419</td>\n",
       "      <td>555977</td>\n",
       "      <td>707442</td>\n",
       "      <td>184437</td>\n",
       "      <td>328109</td>\n",
       "      <td>629346</td>\n",
       "      <td>115786</td>\n",
       "      <td>172763</td>\n",
       "      <td>293997</td>\n",
       "      <td>378721</td>\n",
       "      <td>244607</td>\n",
       "      <td>167700</td>\n",
       "    </tr>\n",
       "    <tr>\n",
       "      <th>7</th>\n",
       "      <td>2009</td>\n",
       "      <td>1259456</td>\n",
       "      <td>535983</td>\n",
       "      <td>723473</td>\n",
       "      <td>193600</td>\n",
       "      <td>365512</td>\n",
       "      <td>552229</td>\n",
       "      <td>143261</td>\n",
       "      <td>172779</td>\n",
       "      <td>318728</td>\n",
       "      <td>353914</td>\n",
       "      <td>253860</td>\n",
       "      <td>156863</td>\n",
       "    </tr>\n",
       "    <tr>\n",
       "      <th>8</th>\n",
       "      <td>2008</td>\n",
       "      <td>1148361</td>\n",
       "      <td>492840</td>\n",
       "      <td>655521</td>\n",
       "      <td>175506</td>\n",
       "      <td>325051</td>\n",
       "      <td>527038</td>\n",
       "      <td>114454</td>\n",
       "      <td>173150</td>\n",
       "      <td>268419</td>\n",
       "      <td>308818</td>\n",
       "      <td>224649</td>\n",
       "      <td>164542</td>\n",
       "    </tr>\n",
       "    <tr>\n",
       "      <th>9</th>\n",
       "      <td>2007</td>\n",
       "      <td>1126056</td>\n",
       "      <td>489997</td>\n",
       "      <td>636059</td>\n",
       "      <td>201290</td>\n",
       "      <td>303935</td>\n",
       "      <td>509202</td>\n",
       "      <td>102444</td>\n",
       "      <td>159377</td>\n",
       "      <td>261337</td>\n",
       "      <td>334567</td>\n",
       "      <td>212319</td>\n",
       "      <td>152585</td>\n",
       "    </tr>\n",
       "    <tr>\n",
       "      <th>10</th>\n",
       "      <td>2006</td>\n",
       "      <td>1033056</td>\n",
       "      <td>441099</td>\n",
       "      <td>591958</td>\n",
       "      <td>189977</td>\n",
       "      <td>295284</td>\n",
       "      <td>441837</td>\n",
       "      <td>98789</td>\n",
       "      <td>145973</td>\n",
       "      <td>245667</td>\n",
       "      <td>303455</td>\n",
       "      <td>188510</td>\n",
       "      <td>145101</td>\n",
       "    </tr>\n",
       "    <tr>\n",
       "      <th>11</th>\n",
       "      <td>2005</td>\n",
       "      <td>1023763</td>\n",
       "      <td>428757</td>\n",
       "      <td>595006</td>\n",
       "      <td>176257</td>\n",
       "      <td>313642</td>\n",
       "      <td>429700</td>\n",
       "      <td>100514</td>\n",
       "      <td>132143</td>\n",
       "      <td>228819</td>\n",
       "      <td>303040</td>\n",
       "      <td>197677</td>\n",
       "      <td>153608</td>\n",
       "    </tr>\n",
       "    <tr>\n",
       "      <th>12</th>\n",
       "      <td>2004</td>\n",
       "      <td>963882</td>\n",
       "      <td>407946</td>\n",
       "      <td>555936</td>\n",
       "      <td>169945</td>\n",
       "      <td>294014</td>\n",
       "      <td>410103</td>\n",
       "      <td>83679</td>\n",
       "      <td>131063</td>\n",
       "      <td>221720</td>\n",
       "      <td>271919</td>\n",
       "      <td>196233</td>\n",
       "      <td>137426</td>\n",
       "    </tr>\n",
       "    <tr>\n",
       "      <th>13</th>\n",
       "      <td>2003</td>\n",
       "      <td>895527</td>\n",
       "      <td>406669</td>\n",
       "      <td>488858</td>\n",
       "      <td>174788</td>\n",
       "      <td>273337</td>\n",
       "      <td>359806</td>\n",
       "      <td>80187</td>\n",
       "      <td>119167</td>\n",
       "      <td>212985</td>\n",
       "      <td>247160</td>\n",
       "      <td>171805</td>\n",
       "      <td>138456</td>\n",
       "    </tr>\n",
       "    <tr>\n",
       "      <th>14</th>\n",
       "      <td>2002</td>\n",
       "      <td>810724</td>\n",
       "      <td>351351</td>\n",
       "      <td>459373</td>\n",
       "      <td>179346</td>\n",
       "      <td>243800</td>\n",
       "      <td>302815</td>\n",
       "      <td>78990</td>\n",
       "      <td>105672</td>\n",
       "      <td>181993</td>\n",
       "      <td>241586</td>\n",
       "      <td>156218</td>\n",
       "      <td>117403</td>\n",
       "    </tr>\n",
       "  </tbody>\n",
       "</table>\n",
       "</div>"
      ],
      "text/plain": [
       "    Year  All_persons    Male  Female  Less_than_high_school  High_school  \\\n",
       "0   2016      1617531  688394  929137                 204665       422550   \n",
       "1   2015      1599907  700699  899208                 178372       422544   \n",
       "2   2014      1499365  684561  814804                 182245       332551   \n",
       "3   2013      1400523  599960  800563                 167905       317342   \n",
       "4   2012      1350721  612771  737950                 164256       369122   \n",
       "5   2011      1330725  603207  727518                 164843       353147   \n",
       "6   2010      1263419  555977  707442                 184437       328109   \n",
       "7   2009      1259456  535983  723473                 193600       365512   \n",
       "8   2008      1148361  492840  655521                 175506       325051   \n",
       "9   2007      1126056  489997  636059                 201290       303935   \n",
       "10  2006      1033056  441099  591958                 189977       295284   \n",
       "11  2005      1023763  428757  595006                 176257       313642   \n",
       "12  2004       963882  407946  555936                 169945       294014   \n",
       "13  2003       895527  406669  488858                 174788       273337   \n",
       "14  2002       810724  351351  459373                 179346       243800   \n",
       "\n",
       "    Some_college  Less than 18  Excellent_health  VG_health  Good_health  \\\n",
       "0         818189        158393            217291     389788       496200   \n",
       "1         864930        126000            225866     346476       504467   \n",
       "2         826382        153137            207702     365160       424211   \n",
       "3         759359        149067            200325     345861       399083   \n",
       "4         676993        133951            186426     314371       403920   \n",
       "5         687861        117558            187892     309873       408089   \n",
       "6         629346        115786            172763     293997       378721   \n",
       "7         552229        143261            172779     318728       353914   \n",
       "8         527038        114454            173150     268419       308818   \n",
       "9         509202        102444            159377     261337       334567   \n",
       "10        441837         98789            145973     245667       303455   \n",
       "11        429700        100514            132143     228819       303040   \n",
       "12        410103         83679            131063     221720       271919   \n",
       "13        359806         80187            119167     212985       247160   \n",
       "14        302815         78990            105672     181993       241586   \n",
       "\n",
       "    Fair_health  Poor_health  \n",
       "0        318004       192553  \n",
       "1        310000       204207  \n",
       "2        301849       195345  \n",
       "3        280754       170123  \n",
       "4        234314       204754  \n",
       "5        250367       171327  \n",
       "6        244607       167700  \n",
       "7        253860       156863  \n",
       "8        224649       164542  \n",
       "9        212319       152585  \n",
       "10       188510       145101  \n",
       "11       197677       153608  \n",
       "12       196233       137426  \n",
       "13       171805       138456  \n",
       "14       156218       117403  "
      ]
     },
     "execution_count": 1,
     "metadata": {},
     "output_type": "execute_result"
    }
   ],
   "source": [
    "import pandas as pd\n",
    "# from IPython.display import HTML\n",
    "import requests\n",
    "health = pd.read_csv(\"static/data/health.csv\")\n",
    "\n",
    "health\n",
    "\n"
   ]
  },
  {
   "cell_type": "code",
   "execution_count": 2,
   "metadata": {},
   "outputs": [
    {
     "data": {
      "text/plain": [
       "'<table border=\"1\" class=\"dataframe\">  <thead>    <tr style=\"text-align: right;\">      <th></th>      <th>Year</th>      <th>All_persons</th>      <th>Male</th>      <th>Female</th>      <th>Less_than_high_school</th>      <th>High_school</th>      <th>Some_college</th>      <th>Less than 18</th>      <th>Excellent_health</th>      <th>VG_health</th>      <th>Good_health</th>      <th>Fair_health</th>      <th>Poor_health</th>    </tr>  </thead>  <tbody>    <tr>      <th>0</th>      <td>2016</td>      <td>1617531</td>      <td>688394</td>      <td>929137</td>      <td>204665</td>      <td>422550</td>      <td>818189</td>      <td>158393</td>      <td>217291</td>      <td>389788</td>      <td>496200</td>      <td>318004</td>      <td>192553</td>    </tr>    <tr>      <th>1</th>      <td>2015</td>      <td>1599907</td>      <td>700699</td>      <td>899208</td>      <td>178372</td>      <td>422544</td>      <td>864930</td>      <td>126000</td>      <td>225866</td>      <td>346476</td>      <td>504467</td>      <td>310000</td>      <td>204207</td>    </tr>    <tr>      <th>2</th>      <td>2014</td>      <td>1499365</td>      <td>684561</td>      <td>814804</td>      <td>182245</td>      <td>332551</td>      <td>826382</td>      <td>153137</td>      <td>207702</td>      <td>365160</td>      <td>424211</td>      <td>301849</td>      <td>195345</td>    </tr>    <tr>      <th>3</th>      <td>2013</td>      <td>1400523</td>      <td>599960</td>      <td>800563</td>      <td>167905</td>      <td>317342</td>      <td>759359</td>      <td>149067</td>      <td>200325</td>      <td>345861</td>      <td>399083</td>      <td>280754</td>      <td>170123</td>    </tr>    <tr>      <th>4</th>      <td>2012</td>      <td>1350721</td>      <td>612771</td>      <td>737950</td>      <td>164256</td>      <td>369122</td>      <td>676993</td>      <td>133951</td>      <td>186426</td>      <td>314371</td>      <td>403920</td>      <td>234314</td>      <td>204754</td>    </tr>    <tr>      <th>5</th>      <td>2011</td>      <td>1330725</td>      <td>603207</td>      <td>727518</td>      <td>164843</td>      <td>353147</td>      <td>687861</td>      <td>117558</td>      <td>187892</td>      <td>309873</td>      <td>408089</td>      <td>250367</td>      <td>171327</td>    </tr>    <tr>      <th>6</th>      <td>2010</td>      <td>1263419</td>      <td>555977</td>      <td>707442</td>      <td>184437</td>      <td>328109</td>      <td>629346</td>      <td>115786</td>      <td>172763</td>      <td>293997</td>      <td>378721</td>      <td>244607</td>      <td>167700</td>    </tr>    <tr>      <th>7</th>      <td>2009</td>      <td>1259456</td>      <td>535983</td>      <td>723473</td>      <td>193600</td>      <td>365512</td>      <td>552229</td>      <td>143261</td>      <td>172779</td>      <td>318728</td>      <td>353914</td>      <td>253860</td>      <td>156863</td>    </tr>    <tr>      <th>8</th>      <td>2008</td>      <td>1148361</td>      <td>492840</td>      <td>655521</td>      <td>175506</td>      <td>325051</td>      <td>527038</td>      <td>114454</td>      <td>173150</td>      <td>268419</td>      <td>308818</td>      <td>224649</td>      <td>164542</td>    </tr>    <tr>      <th>9</th>      <td>2007</td>      <td>1126056</td>      <td>489997</td>      <td>636059</td>      <td>201290</td>      <td>303935</td>      <td>509202</td>      <td>102444</td>      <td>159377</td>      <td>261337</td>      <td>334567</td>      <td>212319</td>      <td>152585</td>    </tr>    <tr>      <th>10</th>      <td>2006</td>      <td>1033056</td>      <td>441099</td>      <td>591958</td>      <td>189977</td>      <td>295284</td>      <td>441837</td>      <td>98789</td>      <td>145973</td>      <td>245667</td>      <td>303455</td>      <td>188510</td>      <td>145101</td>    </tr>    <tr>      <th>11</th>      <td>2005</td>      <td>1023763</td>      <td>428757</td>      <td>595006</td>      <td>176257</td>      <td>313642</td>      <td>429700</td>      <td>100514</td>      <td>132143</td>      <td>228819</td>      <td>303040</td>      <td>197677</td>      <td>153608</td>    </tr>    <tr>      <th>12</th>      <td>2004</td>      <td>963882</td>      <td>407946</td>      <td>555936</td>      <td>169945</td>      <td>294014</td>      <td>410103</td>      <td>83679</td>      <td>131063</td>      <td>221720</td>      <td>271919</td>      <td>196233</td>      <td>137426</td>    </tr>    <tr>      <th>13</th>      <td>2003</td>      <td>895527</td>      <td>406669</td>      <td>488858</td>      <td>174788</td>      <td>273337</td>      <td>359806</td>      <td>80187</td>      <td>119167</td>      <td>212985</td>      <td>247160</td>      <td>171805</td>      <td>138456</td>    </tr>    <tr>      <th>14</th>      <td>2002</td>      <td>810724</td>      <td>351351</td>      <td>459373</td>      <td>179346</td>      <td>243800</td>      <td>302815</td>      <td>78990</td>      <td>105672</td>      <td>181993</td>      <td>241586</td>      <td>156218</td>      <td>117403</td>    </tr>  </tbody></table>'"
      ]
     },
     "execution_count": 2,
     "metadata": {},
     "output_type": "execute_result"
    }
   ],
   "source": [
    "health_html = health.to_html().replace('\\n', '')\n",
    "# facts =facts_html.replace('\\n', '')\n",
    "health_html"
   ]
  },
  {
   "cell_type": "code",
   "execution_count": 3,
   "metadata": {},
   "outputs": [],
   "source": [
    "# HTML(books.head().to_html())"
   ]
  },
  {
   "cell_type": "code",
   "execution_count": 4,
   "metadata": {},
   "outputs": [],
   "source": [
    "from config import api\n"
   ]
  },
  {
   "cell_type": "code",
   "execution_count": 5,
   "metadata": {},
   "outputs": [],
   "source": [
    "# https://nutridigm-api-dev.azurewebsites.net/api/v1/nutridigm/topitemstoconsume?subscriptionId=e837b246-f6ab-8abe-545b-320d905f0024&problemId=35&api_key=e837b246-f6ab-8abe-545b-320d905f0024\n",
    "\n",
    "\n",
    "base_url=\"https://nutridigm-api-dev.azurewebsites.net\"\n",
    "consume=\"/api/v1/nutridigm/topitemstoconsume?\"\n",
    "avoid=\"/api/v1/nutridigm/topitemstoavoid?\"\n",
    "\n",
    "problemId = 6\n",
    "\n",
    "query_consume=base_url + consume + f'subscriptionId={api}&problemId={problemId}&api_key={api}'\n",
    "\n",
    "query_avoid=base_url + avoid + f'subscriptionId={api}&problemId={problemId}&api_key={api}'\n",
    "\n",
    "# print(f'Top ten to consume:  {query_consume}')"
   ]
  },
  {
   "cell_type": "code",
   "execution_count": 6,
   "metadata": {},
   "outputs": [],
   "source": [
    "# print(f'Top ten to avoid:  {query_avoid}')"
   ]
  },
  {
   "cell_type": "code",
   "execution_count": 7,
   "metadata": {},
   "outputs": [
    {
     "name": "stdout",
     "output_type": "stream",
     "text": [
      "['Broccoli, Cruciferous and Green Leafy vegetables; Garlic & other vegetables; Green tea; Apricots, Avocado, Cantaloupe & other; Beans & Peas; Organically grown foods & Exercise;']\n"
     ]
    }
   ],
   "source": [
    "# Get the top ten items to consume\n",
    "consume_food = requests.get(query_consume).json()\n",
    "print(consume_food)"
   ]
  },
  {
   "cell_type": "code",
   "execution_count": 8,
   "metadata": {},
   "outputs": [
    {
     "name": "stdout",
     "output_type": "stream",
     "text": [
      "['Wheat/Whole-wheat; Sweets & Sugar; Pesticide-loaded crops; Processed/Refined foods; Mercury-containing Fish; & Smoking/Tobacco;']\n"
     ]
    }
   ],
   "source": [
    "avoid_food= requests.get(query_avoid).json()\n",
    "print(avoid_food)"
   ]
  },
  {
   "cell_type": "code",
   "execution_count": 9,
   "metadata": {},
   "outputs": [
    {
     "data": {
      "text/plain": [
       "(['Broccoli, Cruciferous and Green Leafy vegetables; Garlic & other vegetables; Green tea; Apricots, Avocado, Cantaloupe & other; Beans & Peas; Organically grown foods & Exercise;'],\n",
       " ['Wheat/Whole-wheat; Sweets & Sugar; Pesticide-loaded crops; Processed/Refined foods; Mercury-containing Fish; & Smoking/Tobacco;'])"
      ]
     },
     "execution_count": 9,
     "metadata": {},
     "output_type": "execute_result"
    }
   ],
   "source": [
    "def food(ProblemId):\n",
    "    consume_food = requests.get(query_consume).json()\n",
    "    avoid_food= requests.get(query_avoid).json()\n",
    "    return consume_food, avoid_food\n",
    "\n",
    "food(6)"
   ]
  },
  {
   "cell_type": "code",
   "execution_count": 20,
   "metadata": {},
   "outputs": [
    {
     "data": {
      "text/plain": [
       "list"
      ]
     },
     "execution_count": 20,
     "metadata": {},
     "output_type": "execute_result"
    }
   ],
   "source": [
    "type(consume_food)"
   ]
  },
  {
   "cell_type": "code",
   "execution_count": 22,
   "metadata": {},
   "outputs": [
    {
     "name": "stdout",
     "output_type": "stream",
     "text": [
      "Broccoli, Cruciferous and Green Leafy vegetables; Garlic & other vegetables; Green tea; Apricots, Avocado, Cantaloupe & other; Beans & Peas; Organically grown foods & Exercise;\n"
     ]
    }
   ],
   "source": [
    "for c in consume_food:\n",
    "    \n",
    "    print(*consume_food, sep=',')"
   ]
  },
  {
   "cell_type": "code",
   "execution_count": null,
   "metadata": {},
   "outputs": [],
   "source": []
  }
 ],
 "metadata": {
  "kernelspec": {
   "display_name": "Python 3",
   "language": "python",
   "name": "python3"
  },
  "language_info": {
   "codemirror_mode": {
    "name": "ipython",
    "version": 3
   },
   "file_extension": ".py",
   "mimetype": "text/x-python",
   "name": "python",
   "nbconvert_exporter": "python",
   "pygments_lexer": "ipython3",
   "version": "3.7.0"
  }
 },
 "nbformat": 4,
 "nbformat_minor": 2
}
